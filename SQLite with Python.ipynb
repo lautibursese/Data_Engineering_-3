{
 "cells": [
  {
   "cell_type": "code",
   "execution_count": 13,
   "id": "2e50ab61",
   "metadata": {},
   "outputs": [
    {
     "data": {
      "text/plain": [
       "sqlite3.Connection"
      ]
     },
     "execution_count": 13,
     "metadata": {},
     "output_type": "execute_result"
    }
   ],
   "source": [
    "# Importing the sqlite3 module\n",
    "import sqlite3\n",
    "\n",
    "# Creating a new connection to a SQLite database named \"data_testing.db\"\n",
    "new_connection = sqlite3.connect(\"data_testing.db\")\n",
    "\n",
    "# Printing the type of the new connection object\n",
    "# This is just to confirm that the connection was successfully created\n",
    "print(type(new_connection))"
   ]
  },
  {
   "cell_type": "code",
   "execution_count": 14,
   "id": "3c77dc22",
   "metadata": {},
   "outputs": [
    {
     "name": "stdout",
     "output_type": "stream",
     "text": [
      "<class 'sqlite3.Connection'>\n"
     ]
    }
   ],
   "source": [
    "# We print the type of the connection object\n",
    "print(type(new_connection))"
   ]
  },
  {
   "cell_type": "code",
   "execution_count": 15,
   "id": "d5bf12ed",
   "metadata": {},
   "outputs": [
    {
     "name": "stdout",
     "output_type": "stream",
     "text": [
      "<class 'sqlite3.Cursor'>\n"
     ]
    }
   ],
   "source": [
    "# We create a new cursor object using the connection\n",
    "new_cursor = new_connection.cursor()\n",
    "\n",
    "# We print the type of the cursor object\n",
    "print(type(new_cursor))"
   ]
  },
  {
   "cell_type": "code",
   "execution_count": 11,
   "id": "0406d8e5",
   "metadata": {},
   "outputs": [
    {
     "data": {
      "text/plain": [
       "('2023-03-19 17:25:27',)"
      ]
     },
     "execution_count": 11,
     "metadata": {},
     "output_type": "execute_result"
    }
   ],
   "source": [
    "# Execute a SQL query to get the current date and time in the local timezone\n",
    "new_sql = \"SELECT datetime('now', 'localtime');\"\n",
    "\n",
    "# Execute the SQL query using the cursor object\n",
    "new_cursor.execute(new_sql)\n",
    "\n",
    "# Fetch the result of the query using fetchone() method\n",
    "current_datetime = new_cursor.fetchone()\n",
    "\n",
    "# Print the current date and time\n",
    "print(\"Current date and time in local timezone:\", current_datetime[0])"
   ]
  },
  {
   "cell_type": "code",
   "execution_count": 12,
   "id": "6194fddb",
   "metadata": {},
   "outputs": [
    {
     "name": "stdout",
     "output_type": "stream",
     "text": [
      "2023-03-19 17:25:33\n"
     ]
    }
   ],
   "source": [
    "# Execute it in a better output format\n",
    "new_dtime = new_cursor.execute(new_sql).fetchone()[0]\n",
    "print(new_dtime)"
   ]
  },
  {
   "cell_type": "code",
   "execution_count": 16,
   "id": "f9c892aa",
   "metadata": {},
   "outputs": [],
   "source": [
    "# Close the connection\n",
    "new_connection.close()"
   ]
  },
  {
   "cell_type": "code",
   "execution_count": 21,
   "id": "e62913eb",
   "metadata": {},
   "outputs": [
    {
     "name": "stdout",
     "output_type": "stream",
     "text": [
      "2023-03-19 17:36:20\n"
     ]
    }
   ],
   "source": [
    "# Another way compressed to do it\n",
    "with sqlite3.connect(\"data_testing.db\") as new_connection:\n",
    "    new_cursor = new_connection.cursor()\n",
    "    new_sql = \"SELECT datetime('now', 'localtime');\"\n",
    "    new_dtime = new_cursor.execute(new_sql).fetchone()[0]\n",
    "\n",
    "print(new_dtime)"
   ]
  },
  {
   "cell_type": "markdown",
   "id": "62fc16d6",
   "metadata": {},
   "source": [
    "# Create table with values"
   ]
  },
  {
   "cell_type": "code",
   "execution_count": 25,
   "id": "0689c1a5",
   "metadata": {},
   "outputs": [],
   "source": [
    "new_connection = sqlite3.connect(\"data_testing.db\")\n",
    "new_cursor = new_connection.cursor()\n",
    "\n",
    "new_cursor.execute(\"CREATE TABLE clients(Name TEXT, Number INT);\")\n",
    "\n",
    "new_cursor.execute(\"INSERT INTO clients VALUES('Dany', 2030)\")\n",
    "\n",
    "new_connection.commit()\n",
    "new_connection.close()"
   ]
  },
  {
   "cell_type": "code",
   "execution_count": 26,
   "id": "7fd8cb81",
   "metadata": {},
   "outputs": [
    {
     "data": {
      "text/plain": [
       "('Dany', 2030)"
      ]
     },
     "execution_count": 26,
     "metadata": {},
     "output_type": "execute_result"
    }
   ],
   "source": [
    "# Browse first row of clients\n",
    "new_connection = sqlite3.connect(\"data_testing.db\")\n",
    "new_cursor = new_connection.cursor()\n",
    "\n",
    "new_cursor.execute(\"SELECT * FROM clients;\")\n",
    "new_cursor.fetchone()"
   ]
  },
  {
   "cell_type": "code",
   "execution_count": 27,
   "id": "48df839c",
   "metadata": {},
   "outputs": [],
   "source": [
    "# Drop the table\n",
    "new_cursor.execute(\"DROP TABLE clients;\")\n",
    "new_connection.commit() # Necessarily to apply the changes\n",
    "new_connection.close() # Close the connection"
   ]
  },
  {
   "cell_type": "markdown",
   "id": "024a8014",
   "metadata": {},
   "source": [
    "# Full Program to fetch all data from data_testing"
   ]
  },
  {
   "cell_type": "code",
   "execution_count": 28,
   "id": "f3454e31",
   "metadata": {},
   "outputs": [
    {
     "name": "stdout",
     "output_type": "stream",
     "text": [
      "('Messi', 30)\n",
      "('Salah', 11)\n"
     ]
    }
   ],
   "source": [
    "import sqlite3\n",
    "\n",
    "new_values = (\n",
    "    (\"Ronaldo\", 7),\n",
    "    (\"Messi\", 30),\n",
    "    (\"Salah\", 11),\n",
    ")\n",
    "\n",
    "with sqlite3.connect(\"data_testing.db\") as new_connection:\n",
    "    new_cursor = new_connection.cursor()\n",
    "    new_cursor.execute(\"DROP TABLE IF EXISTS clients\")\n",
    "    new_cursor.execute(\"CREATE TABLE clients(Name TEXT, Number INT);\")\n",
    "    \n",
    "    new_cursor.executemany(\"INSERT INTO clients VALUES(?, ?)\", new_values)\n",
    "    \n",
    "    new_cursor.execute(\"SELECT Name, Number FROM clients WHERE Number > 7;\")\n",
    "    \n",
    "    for x in new_cursor.fetchall():\n",
    "        print(x)"
   ]
  }
 ],
 "metadata": {
  "kernelspec": {
   "display_name": "Python 3",
   "language": "python",
   "name": "python3"
  },
  "language_info": {
   "codemirror_mode": {
    "name": "ipython",
    "version": 3
   },
   "file_extension": ".py",
   "mimetype": "text/x-python",
   "name": "python",
   "nbconvert_exporter": "python",
   "pygments_lexer": "ipython3",
   "version": "3.10.10"
  }
 },
 "nbformat": 4,
 "nbformat_minor": 5
}
