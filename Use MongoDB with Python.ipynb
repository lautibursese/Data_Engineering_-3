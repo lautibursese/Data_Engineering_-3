{
 "cells": [
  {
   "cell_type": "code",
   "execution_count": 1,
   "id": "de356c6e",
   "metadata": {},
   "outputs": [
    {
     "name": "stdout",
     "output_type": "stream",
     "text": [
      "Requirement already satisfied: pymongo in c:\\users\\predator\\appdata\\local\\packages\\pythonsoftwarefoundation.python.3.10_qbz5n2kfra8p0\\localcache\\local-packages\\python310\\site-packages (4.3.3)\n",
      "Requirement already satisfied: dnspython<3.0.0,>=1.16.0 in c:\\users\\predator\\appdata\\local\\packages\\pythonsoftwarefoundation.python.3.10_qbz5n2kfra8p0\\localcache\\local-packages\\python310\\site-packages (from pymongo) (2.2.1)\n"
     ]
    }
   ],
   "source": [
    "!python -m pip install pymongo"
   ]
  },
  {
   "cell_type": "code",
   "execution_count": 4,
   "id": "bdfb1d76",
   "metadata": {},
   "outputs": [],
   "source": [
    "import pymongo"
   ]
  },
  {
   "cell_type": "code",
   "execution_count": 6,
   "id": "25f69771",
   "metadata": {},
   "outputs": [
    {
     "name": "stdout",
     "output_type": "stream",
     "text": [
      "[1, 2, 3, 4, 5, 6]\n"
     ]
    }
   ],
   "source": [
    "new_client = pymongo.MongoClient('mongodb://localhost:27017/')\n",
    "\n",
    "new_db = new_client['new_data']\n",
    "\n",
    "new_col = new_db['new_students']\n",
    "\n",
    "list_of_students = [\n",
    "    { \"_id\": 1, \"name\": \"student00\", \"code\": \"code00\" },\n",
    "    { \"_id\": 2, \"name\": \"student01\", \"code\": \"code01\" },\n",
    "    { \"_id\": 3, \"name\": \"student02\", \"code\": \"code02\" },\n",
    "    { \"_id\": 4, \"name\": \"student03\", \"code\": \"code03\" },\n",
    "    { \"_id\": 5, \"name\": \"student04\", \"code\": \"code04\" },\n",
    "    { \"_id\": 6, \"name\": \"student05\", \"code\": \"code05\" }\n",
    "]\n",
    "\n",
    "adding_many = new_col.insert_many(list_of_students) # Insert an iterable of documents.\n",
    "\n",
    "print(adding_many.inserted_ids)"
   ]
  },
  {
   "cell_type": "code",
   "execution_count": 7,
   "id": "98edc072",
   "metadata": {},
   "outputs": [
    {
     "name": "stdout",
     "output_type": "stream",
     "text": [
      "{'_id': 1, 'name': 'student00', 'code': 'code00'}\n"
     ]
    }
   ],
   "source": [
    "finding = new_col.find_one() # Get a single document from the database.\n",
    "print(finding)"
   ]
  },
  {
   "cell_type": "code",
   "execution_count": 9,
   "id": "f4b88abb",
   "metadata": {},
   "outputs": [
    {
     "name": "stdout",
     "output_type": "stream",
     "text": [
      "{'_id': 1, 'name': 'student00', 'code': 'code00'}\n",
      "{'_id': 2, 'name': 'student01', 'code': 'code01'}\n",
      "{'_id': 3, 'name': 'student02', 'code': 'code02'}\n",
      "{'_id': 4, 'name': 'student03', 'code': 'code03'}\n",
      "{'_id': 5, 'name': 'student04', 'code': 'code04'}\n",
      "{'_id': 6, 'name': 'student05', 'code': 'code05'}\n"
     ]
    }
   ],
   "source": [
    "for row in new_col.find(): # Query the database.\n",
    "    print(row)"
   ]
  },
  {
   "cell_type": "code",
   "execution_count": 14,
   "id": "b47ebd8c",
   "metadata": {},
   "outputs": [
    {
     "name": "stdout",
     "output_type": "stream",
     "text": [
      "{'_id': 1, 'name': 'student00', 'code': 'code00'}\n",
      "{'_id': 2, 'name': 'student01', 'code': 'code01'}\n",
      "{'_id': 3, 'name': 'student02', 'code': 'code02'}\n",
      "{'_id': 4, 'name': 'student03', 'code': 'code03'}\n",
      "{'_id': 5, 'name': 'student04', 'code': 'code04'}\n",
      "{'_id': 6, 'name': 'student05', 'code': 'code05'}\n"
     ]
    }
   ],
   "source": [
    "new_query = { \"code\": {\"$gt\": \"code\"} }\n",
    "\n",
    "new_doc = new_col.find(new_query)\n",
    "\n",
    "for x in new_doc:\n",
    "  print(x)"
   ]
  },
  {
   "cell_type": "code",
   "execution_count": 15,
   "id": "0ac23ce4",
   "metadata": {},
   "outputs": [
    {
     "name": "stdout",
     "output_type": "stream",
     "text": [
      "{'_id': 6, 'name': 'student05', 'code': 'code05'}\n",
      "{'_id': 5, 'name': 'student04', 'code': 'code04'}\n",
      "{'_id': 4, 'name': 'student03', 'code': 'code03'}\n",
      "{'_id': 3, 'name': 'student02', 'code': 'code02'}\n",
      "{'_id': 2, 'name': 'student01', 'code': 'code01'}\n",
      "{'_id': 1, 'name': 'student00', 'code': 'code00'}\n"
     ]
    }
   ],
   "source": [
    "new_query = new_col.find().sort(\"name\", -1) # Descendant order.\n",
    "\n",
    "for n in new_query:\n",
    "    print(n)"
   ]
  },
  {
   "cell_type": "code",
   "execution_count": 16,
   "id": "df0c9c20",
   "metadata": {},
   "outputs": [
    {
     "name": "stdout",
     "output_type": "stream",
     "text": [
      "{'_id': 1, 'name': 'student00', 'code': 'code00'}\n",
      "{'_id': 3, 'name': 'student02', 'code': 'code02'}\n",
      "{'_id': 4, 'name': 'student03', 'code': 'code03'}\n",
      "{'_id': 5, 'name': 'student04', 'code': 'code04'}\n",
      "{'_id': 6, 'name': 'student05', 'code': 'code05'}\n"
     ]
    }
   ],
   "source": [
    "new_query = {\"code\": \"code01\"}\n",
    " \n",
    "new_col.delete_one(new_query) # Delete a single document matching the filter - only first is deleted if it matches many.\n",
    "\n",
    "for x in new_col.find():\n",
    "    print(x)"
   ]
  },
  {
   "cell_type": "code",
   "execution_count": 17,
   "id": "f55411c8",
   "metadata": {},
   "outputs": [
    {
     "name": "stdout",
     "output_type": "stream",
     "text": [
      "1 documents deleted from the collection!\n"
     ]
    }
   ],
   "source": [
    "new_q = {\"code\": {\"$regex\": \"^code03\"}} # Starts with \"code03\"\n",
    "\n",
    "x = new_col.delete_many(new_q) # Delete one or more documents matching the filter.\n",
    "\n",
    "print(x.deleted_count, \"documents deleted from the collection!\")"
   ]
  },
  {
   "cell_type": "code",
   "execution_count": 18,
   "id": "cb272706",
   "metadata": {},
   "outputs": [
    {
     "name": "stdout",
     "output_type": "stream",
     "text": [
      "4 documents deleted from the collection\n"
     ]
    }
   ],
   "source": [
    "remove_all = new_col.delete_many({})\n",
    "\n",
    "print(remove_all.deleted_count, \"documents deleted from the collection\")"
   ]
  },
  {
   "cell_type": "code",
   "execution_count": 19,
   "id": "03ea7050",
   "metadata": {},
   "outputs": [],
   "source": [
    "new_col.drop()"
   ]
  },
  {
   "cell_type": "code",
   "execution_count": 20,
   "id": "972699cc",
   "metadata": {},
   "outputs": [],
   "source": [
    "import pymongo\n",
    "\n",
    "new_client = pymongo.MongoClient('mongodb://localhost:27017/')\n",
    "\n",
    "new_db = new_client['new_data']\n",
    "\n",
    "new_col = new_db['new_students']\n",
    "\n",
    "list_of_students = [\n",
    "    { \"_id\": 1, \"name\": \"student00\", \"code\": \"code00\" },\n",
    "    { \"_id\": 2, \"name\": \"student01\", \"code\": \"code01\" },\n",
    "    { \"_id\": 3, \"name\": \"student02\", \"code\": \"code02\" },\n",
    "    { \"_id\": 4, \"name\": \"student03\", \"code\": \"code03\" },\n",
    "    { \"_id\": 5, \"name\": \"student04\", \"code\": \"code04\" },\n",
    "    { \"_id\": 6, \"name\": \"student05\", \"code\": \"code05\" }\n",
    "]\n",
    "\n",
    "adding_many = new_col.insert_many(list_of_students)"
   ]
  },
  {
   "cell_type": "code",
   "execution_count": 21,
   "id": "93eb2c2b",
   "metadata": {},
   "outputs": [
    {
     "name": "stdout",
     "output_type": "stream",
     "text": [
      "{'_id': 1, 'name': 'student00', 'code': 'codeZero'}\n",
      "{'_id': 2, 'name': 'student01', 'code': 'code01'}\n",
      "{'_id': 3, 'name': 'student02', 'code': 'code02'}\n",
      "{'_id': 4, 'name': 'student03', 'code': 'code03'}\n",
      "{'_id': 5, 'name': 'student04', 'code': 'code04'}\n",
      "{'_id': 6, 'name': 'student05', 'code': 'code05'}\n"
     ]
    }
   ],
   "source": [
    "new_q = { \"code\": \"code00\" }\n",
    "new_vals = { \"$set\": {\"code\": \"codeZero\"} }\n",
    "\n",
    "new_col.update_one(new_q, new_vals) # Update a single document matching the filter.\n",
    "\n",
    "for x in new_col.find():\n",
    "    print(x)"
   ]
  },
  {
   "cell_type": "code",
   "execution_count": 22,
   "id": "2da09fd2",
   "metadata": {},
   "outputs": [
    {
     "name": "stdout",
     "output_type": "stream",
     "text": [
      "{'_id': 1, 'name': 'student00', 'code': 'codeZero'}\n",
      "{'_id': 2, 'name': 'student01', 'code': 'code01'}\n",
      "{'_id': 3, 'name': 'student02', 'code': 'code02'}\n"
     ]
    }
   ],
   "source": [
    "result_filter = new_col.find().limit(3) # Limits the number of results to be returned by this cursor.\n",
    "\n",
    "for x in result_filter:\n",
    "    print(x)"
   ]
  }
 ],
 "metadata": {
  "kernelspec": {
   "display_name": "Python 3",
   "language": "python",
   "name": "python3"
  },
  "language_info": {
   "codemirror_mode": {
    "name": "ipython",
    "version": 3
   },
   "file_extension": ".py",
   "mimetype": "text/x-python",
   "name": "python",
   "nbconvert_exporter": "python",
   "pygments_lexer": "ipython3",
   "version": "3.10.10"
  }
 },
 "nbformat": 4,
 "nbformat_minor": 5
}
